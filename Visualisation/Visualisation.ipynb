{
 "cells": [
  {
   "cell_type": "code",
   "execution_count": 132,
   "metadata": {
    "scrolled": false
   },
   "outputs": [],
   "source": [
    "from Network import *\n",
    "import folium\n",
    "l_routes = [\"1\", \"2\", \"3\", \"3b\", \"4\", \"5\", \"6\", \"7\", \"7b\", \"8\", \"9\", \"10\", \"11\", \"12\", \"13\", \"14\"]\n",
    "p = \"metro/RATP_GTFS_METRO_\"\n",
    "\n",
    "arg = [p + l for l in l_routes]\n",
    "net = Network(*arg)\n",
    "\n",
    "dt4 = datetime.datetime.strptime('20190321 15:25', '%Y%m%d %H:%M')\n",
    "path, duration = net.compute_shortest_path(\"Pont de Sèvres\", \"Saint-Fargeau\", dt4)\n",
    "dt_arrive = dt4 + datetime.timedelta(minutes=duration)#arrive time"
   ]
  },
  {
   "cell_type": "code",
   "execution_count": 134,
   "metadata": {
    "scrolled": true
   },
   "outputs": [],
   "source": [
    "#Visualisation Map\n",
    "paris = folium.Map(location = [48.856578, 2.351828], zoom_start = 12)\n",
    "colors = ['yellow', 'cadetblue','green','blue','pink','darkblue', 'darkgreen', 'darkpurple','black', 'purple', 'darkred']\n",
    "colors_idx = 0\n",
    "#Marker of start\n",
    "paris.add_child(folium.Marker(location = [path[0][4], path[0][5]], \n",
    "                              popup = \"Depart: \" + path[0][3] + \"at \" + str(dt4), \n",
    "                              icon=folium.Icon(icon='home',color='orange')))  \n",
    "\n",
    "points = [[path[0][4],path[0][5]]]\n",
    "i = 1\n",
    "while (i < len(path)):\n",
    "    if (path[i][1] != \"transfer\"):\n",
    "         points.append( [path[i][4],path[i][5]] )\n",
    "    if (path[i][1] == \"transfer\"):\n",
    "        paris.add_child(folium.Marker(location = [path[i][4], path[i][5]], \n",
    "                                      popup = \"Transfert :\" + path[i][3],\n",
    "                                      icon=folium.Icon(icon='info-sign',color='gray')))\n",
    "        paris.add_child(folium.PolyLine(locations=points,color=colors[colors_idx], weight=6,opacity=1)) \n",
    "        colors_idx = colors_idx+1\n",
    "        points.clear()\n",
    "        points = [[path[i][4],path[i][5]]] #retake the start point of each line\n",
    "    i = i + 1\n",
    "paris.add_child(folium.PolyLine(locations=points,color=colors[colors_idx], weight=6,opacity=1))     \n",
    "\n",
    "#Marker of end\n",
    "paris.add_child(folium.Marker(location = [path[len(path)-1][4], path[len(path)-1][5]], \n",
    "                              popup = \"Arrive: \" + path[len(path)-1][3] + \"at \" + str(dt_arrive),\n",
    "                              icon=folium.Icon(icon='cloud',color='green')))\n",
    "\n",
    "paris.save('paris.html') "
   ]
  },
  {
   "cell_type": "code",
   "execution_count": 119,
   "metadata": {},
   "outputs": [
    {
     "name": "stdout",
     "output_type": "stream",
     "text": [
      "[(1799, 'transfer', 0, 'Plaisance', 48.83175809378841, 2.3138665498481625), (1787, '13', 2, 'Pernety', 48.833933819810916, 2.31790897216328), (1948, '13', 4, 'Gaîté', 48.838751821388634, 2.322509186224712), (1827, '13', 5, 'Montparnasse-Bienvenue', 48.84207702018728, 2.321010449555117), (1928, '13', 7, 'Duroc', 48.84699250092279, 2.3165423447702307), (1719, '13', 8, 'Saint-François-Xavier', 48.8509825598235, 2.31442986460027), (1638, '13', 9, 'Varenne', 48.85639306919846, 2.3147543648102884), (1897, '13', 10, 'Invalides', 48.86085078966753, 2.314548112626649), (3343761, 'transfer', 13, 'Invalides', 48.86109346762053, 2.3146433553464374), (3343763, '8', 15, 'Concorde', 48.865507221530486, 2.3203628558611284), (3343765, '8', 16, 'Madeleine', 48.86950712762907, 2.324680199591515), (3343767, '8', 18, 'Opéra', 48.87063108014849, 2.331737048361137), (3343769, '8', 19, 'Richelieu-Drouot', 48.87200623896137, 2.339911390610416), (3343771, '8', 20, 'Grands Boulevards', 48.87157474359305, 2.3428950319846593), (3343773, '8', 21, 'Bonne Nouvelle', 48.87057675358199, 2.348494293710928), (3343775, '8', 22, 'Strasbourg-Saint-Denis', 48.869380780106006, 2.3540796521963494), (3343777, '8', 24, 'République', 48.86767151899055, 2.363329120776082), (3343779, '8', 25, 'Filles du Calvaire', 48.86307817635541, 2.36674588358473), (3343781, '8', 26, 'Saint-Sébastien-Froissart', 48.86097499718719, 2.3672622950229414), (3343783, '8', 27, 'Chemin Vert', 48.85758654446453, 2.3680366949483758)]\n",
      "20\n"
     ]
    }
   ],
   "source": []
  },
  {
   "cell_type": "code",
   "execution_count": null,
   "metadata": {},
   "outputs": [],
   "source": []
  }
 ],
 "metadata": {
  "kernelspec": {
   "display_name": "Python 3",
   "language": "python",
   "name": "python3"
  },
  "language_info": {
   "codemirror_mode": {
    "name": "ipython",
    "version": 3
   },
   "file_extension": ".py",
   "mimetype": "text/x-python",
   "name": "python",
   "nbconvert_exporter": "python",
   "pygments_lexer": "ipython3",
   "version": "3.7.0"
  }
 },
 "nbformat": 4,
 "nbformat_minor": 2
}
